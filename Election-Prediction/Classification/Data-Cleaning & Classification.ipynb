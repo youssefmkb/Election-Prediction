{
 "cells": [
  {
   "cell_type": "code",
   "execution_count": 24,
   "metadata": {},
   "outputs": [],
   "source": [
    "# Import libraries\n",
    "import numpy as np\n",
    "import pandas as pd\n",
    "import seaborn as sb"
   ]
  },
  {
   "cell_type": "code",
   "execution_count": 25,
   "metadata": {},
   "outputs": [
    {
     "data": {
      "text/html": [
       "<div>\n",
       "<style scoped>\n",
       "    .dataframe tbody tr th:only-of-type {\n",
       "        vertical-align: middle;\n",
       "    }\n",
       "\n",
       "    .dataframe tbody tr th {\n",
       "        vertical-align: top;\n",
       "    }\n",
       "\n",
       "    .dataframe thead th {\n",
       "        text-align: right;\n",
       "    }\n",
       "</style>\n",
       "<table border=\"1\" class=\"dataframe\">\n",
       "  <thead>\n",
       "    <tr style=\"text-align: right;\">\n",
       "      <th></th>\n",
       "      <th>Tweet’s id</th>\n",
       "      <th>Username</th>\n",
       "      <th>Followers</th>\n",
       "      <th>Retweet</th>\n",
       "      <th>Friends</th>\n",
       "      <th>Listed</th>\n",
       "      <th>Text</th>\n",
       "      <th>Location</th>\n",
       "      <th>Winner</th>\n",
       "    </tr>\n",
       "  </thead>\n",
       "  <tbody>\n",
       "    <tr>\n",
       "      <td>0</td>\n",
       "      <td>1.457794e+08</td>\n",
       "      <td>MrKinto</td>\n",
       "      <td>81</td>\n",
       "      <td>43</td>\n",
       "      <td>151</td>\n",
       "      <td>4</td>\n",
       "      <td>RT @joshgreenman: Trump explicitly said we sho...</td>\n",
       "      <td>Tokyo-to, Japan</td>\n",
       "      <td>Trump</td>\n",
       "    </tr>\n",
       "    <tr>\n",
       "      <td>1</td>\n",
       "      <td>7.090000e+17</td>\n",
       "      <td>TrumpsToxic</td>\n",
       "      <td>669</td>\n",
       "      <td>1</td>\n",
       "      <td>652</td>\n",
       "      <td>7</td>\n",
       "      <td>RT @natespuewell: #VPDebate\\r\\n\\r\\nPence follo...</td>\n",
       "      <td>Florida, USA</td>\n",
       "      <td>Trump</td>\n",
       "    </tr>\n",
       "    <tr>\n",
       "      <td>2</td>\n",
       "      <td>9.070318e+08</td>\n",
       "      <td>Laurel05728614</td>\n",
       "      <td>6</td>\n",
       "      <td>56</td>\n",
       "      <td>152</td>\n",
       "      <td>0</td>\n",
       "      <td>RT @sallykohn: Basically Trump/Pence's entire ...</td>\n",
       "      <td>NaN</td>\n",
       "      <td>Trump</td>\n",
       "    </tr>\n",
       "    <tr>\n",
       "      <td>3</td>\n",
       "      <td>2.357730e+09</td>\n",
       "      <td>a40019380</td>\n",
       "      <td>97</td>\n",
       "      <td>1438</td>\n",
       "      <td>75</td>\n",
       "      <td>6</td>\n",
       "      <td>RT @ezraklein: It sort of works in the debate,...</td>\n",
       "      <td>NaN</td>\n",
       "      <td>Trump</td>\n",
       "    </tr>\n",
       "    <tr>\n",
       "      <td>4</td>\n",
       "      <td>4.380516e+07</td>\n",
       "      <td>jlynn122</td>\n",
       "      <td>120</td>\n",
       "      <td>211</td>\n",
       "      <td>682</td>\n",
       "      <td>5</td>\n",
       "      <td>RT @RichLowry: Pence shakes his head in incred...</td>\n",
       "      <td>Ronkonkoma, NY</td>\n",
       "      <td>Trump</td>\n",
       "    </tr>\n",
       "  </tbody>\n",
       "</table>\n",
       "</div>"
      ],
      "text/plain": [
       "     Tweet’s id        Username   Followers   Retweet   Friends   Listed  \\\n",
       "0  1.457794e+08         MrKinto          81        43       151        4   \n",
       "1  7.090000e+17     TrumpsToxic         669         1       652        7   \n",
       "2  9.070318e+08  Laurel05728614           6        56       152        0   \n",
       "3  2.357730e+09       a40019380          97      1438        75        6   \n",
       "4  4.380516e+07        jlynn122         120       211       682        5   \n",
       "\n",
       "                                                Text         Location Winner  \n",
       "0  RT @joshgreenman: Trump explicitly said we sho...  Tokyo-to, Japan  Trump  \n",
       "1  RT @natespuewell: #VPDebate\\r\\n\\r\\nPence follo...     Florida, USA  Trump  \n",
       "2  RT @sallykohn: Basically Trump/Pence's entire ...              NaN  Trump  \n",
       "3  RT @ezraklein: It sort of works in the debate,...              NaN  Trump  \n",
       "4  RT @RichLowry: Pence shakes his head in incred...   Ronkonkoma, NY  Trump  "
      ]
     },
     "execution_count": 25,
     "metadata": {},
     "output_type": "execute_result"
    }
   ],
   "source": [
    "# Read the dataset into a dataframe\n",
    "dataset = pd.read_csv('C:/Users\\Youssef/Desktop/stage/training-tweets.csv', engine='python')\n",
    "dataset.head()"
   ]
  },
  {
   "cell_type": "code",
   "execution_count": 26,
   "metadata": {},
   "outputs": [
    {
     "name": "stdout",
     "output_type": "stream",
     "text": [
      "<class 'pandas.core.frame.DataFrame'>\n",
      "RangeIndex: 40000 entries, 0 to 39999\n",
      "Data columns (total 9 columns):\n",
      "Tweet’s id    40000 non-null float64\n",
      "Username      40000 non-null object\n",
      " Followers    40000 non-null int64\n",
      " Retweet      40000 non-null int64\n",
      " Friends      40000 non-null int64\n",
      " Listed       40000 non-null int64\n",
      " Text         40000 non-null object\n",
      " Location     26129 non-null object\n",
      "Winner        40000 non-null object\n",
      "dtypes: float64(1), int64(4), object(4)\n",
      "memory usage: 2.7+ MB\n"
     ]
    },
    {
     "data": {
      "text/plain": [
       "<matplotlib.axes._subplots.AxesSubplot at 0x23cfeb26548>"
      ]
     },
     "execution_count": 26,
     "metadata": {},
     "output_type": "execute_result"
    },
    {
     "data": {
      "image/png": "[encoded data removed]",
      "text/plain": [
       "<Figure size 432x288 with 2 Axes>"
      ]
     },
     "metadata": {
      "needs_background": "light"
     },
     "output_type": "display_data"
    }
   ],
   "source": [
    "# info() function to get details about the data types of the dataset\n",
    "dataset.info()\n",
    "# seaborn’s heatmap() function to check which values are null\n",
    "sb.heatmap(dataset.isnull())"
   ]
  },
  {
   "cell_type": "code",
   "execution_count": 27,
   "metadata": {},
   "outputs": [],
   "source": [
    "# Drop all rows with missin data\n",
    "dataset = dataset.dropna()"
   ]
  },
  {
   "cell_type": "code",
   "execution_count": 28,
   "metadata": {},
   "outputs": [
    {
     "data": {
      "text/html": [
       "<div>\n",
       "<style scoped>\n",
       "    .dataframe tbody tr th:only-of-type {\n",
       "        vertical-align: middle;\n",
       "    }\n",
       "\n",
       "    .dataframe tbody tr th {\n",
       "        vertical-align: top;\n",
       "    }\n",
       "\n",
       "    .dataframe thead th {\n",
       "        text-align: right;\n",
       "    }\n",
       "</style>\n",
       "<table border=\"1\" class=\"dataframe\">\n",
       "  <thead>\n",
       "    <tr style=\"text-align: right;\">\n",
       "      <th></th>\n",
       "      <th>Tweet’s id</th>\n",
       "      <th>Followers</th>\n",
       "      <th>Retweet</th>\n",
       "      <th>Friends</th>\n",
       "      <th>Listed</th>\n",
       "      <th>Winner</th>\n",
       "    </tr>\n",
       "  </thead>\n",
       "  <tbody>\n",
       "    <tr>\n",
       "      <td>0</td>\n",
       "      <td>145779439.0</td>\n",
       "      <td>81</td>\n",
       "      <td>43</td>\n",
       "      <td>151</td>\n",
       "      <td>4</td>\n",
       "      <td>Trump</td>\n",
       "    </tr>\n",
       "  </tbody>\n",
       "</table>\n",
       "</div>"
      ],
      "text/plain": [
       "    Tweet’s id   Followers   Retweet   Friends   Listed Winner\n",
       "0  145779439.0          81        43       151        4  Trump"
      ]
     },
     "execution_count": 28,
     "metadata": {},
     "output_type": "execute_result"
    }
   ],
   "source": [
    "# Drop some columns which is not relevant to the analysis (they are not numeric)\n",
    "dataset = dataset.drop(dataset.columns[[1, 6, 7]], axis='columns')\n",
    "dataset.head(1)"
   ]
  },
  {
   "cell_type": "code",
   "execution_count": 29,
   "metadata": {},
   "outputs": [
    {
     "data": {
      "text/html": [
       "<div>\n",
       "<style scoped>\n",
       "    .dataframe tbody tr th:only-of-type {\n",
       "        vertical-align: middle;\n",
       "    }\n",
       "\n",
       "    .dataframe tbody tr th {\n",
       "        vertical-align: top;\n",
       "    }\n",
       "\n",
       "    .dataframe thead th {\n",
       "        text-align: right;\n",
       "    }\n",
       "</style>\n",
       "<table border=\"1\" class=\"dataframe\">\n",
       "  <thead>\n",
       "    <tr style=\"text-align: right;\">\n",
       "      <th></th>\n",
       "      <th>Tweet’s id</th>\n",
       "      <th>Followers</th>\n",
       "      <th>Retweet</th>\n",
       "      <th>Friends</th>\n",
       "      <th>Listed</th>\n",
       "      <th>Winner</th>\n",
       "    </tr>\n",
       "  </thead>\n",
       "  <tbody>\n",
       "    <tr>\n",
       "      <td>0</td>\n",
       "      <td>145779439.0</td>\n",
       "      <td>81</td>\n",
       "      <td>43</td>\n",
       "      <td>151</td>\n",
       "      <td>4</td>\n",
       "      <td>1</td>\n",
       "    </tr>\n",
       "  </tbody>\n",
       "</table>\n",
       "</div>"
      ],
      "text/plain": [
       "    Tweet’s id   Followers   Retweet   Friends   Listed  Winner\n",
       "0  145779439.0          81        43       151        4       1"
      ]
     },
     "execution_count": 29,
     "metadata": {},
     "output_type": "execute_result"
    }
   ],
   "source": [
    "# Split 'Winner' column ( not numeric ) into new numeric column\n",
    "dummy = pd.get_dummies(dataset['Winner'])\n",
    "dummy.head()\n",
    "dataset = pd.concat((dataset, dummy), axis=1)\n",
    "dataset.head()\n",
    "dataset = dataset.drop(['Winner'], axis=1)\n",
    "dataset = dataset.drop(['Clinton'], axis=1)\n",
    "dataset = dataset.rename(columns={\"Trump\":\"Winner\"})\n",
    "dataset.head(1)"
   ]
  },
  {
   "cell_type": "code",
   "execution_count": 30,
   "metadata": {},
   "outputs": [],
   "source": [
    "# Seperate the dataframe into X and y data\n",
    "X = dataset.values\n",
    "y = dataset['Winner'].values\n",
    "# Delete the Vote column from X\n",
    "X = np.delete(X,5,axis=1)"
   ]
  },
  {
   "cell_type": "code",
   "execution_count": 31,
   "metadata": {},
   "outputs": [],
   "source": [
    "# Split the dataset into 70% Training and 30% Test\n",
    "from sklearn.model_selection import train_test_split\n",
    "X_train, X_test, y_train, y_test = train_test_split(X,y,test_size=0.3,random_state=0)"
   ]
  },
  {
   "cell_type": "code",
   "execution_count": 32,
   "metadata": {},
   "outputs": [
    {
     "data": {
      "text/plain": [
       "0.5727771399413191"
      ]
     },
     "execution_count": 32,
     "metadata": {},
     "output_type": "execute_result"
    }
   ],
   "source": [
    "# Decision Tree classifier\n",
    "from sklearn import tree\n",
    "dt_clf = tree.DecisionTreeClassifier(max_depth=5)\n",
    "dt_clf.fit(X_train, y_train)\n",
    "dt_clf.score(X_test, y_test)"
   ]
  },
  {
   "cell_type": "code",
   "execution_count": 33,
   "metadata": {},
   "outputs": [
    {
     "data": {
      "text/plain": [
       "array([[2051, 1848],\n",
       "       [1501, 2439]], dtype=int64)"
      ]
     },
     "execution_count": 33,
     "metadata": {},
     "output_type": "execute_result"
    }
   ],
   "source": [
    "\"\"\"Confusion Matrix of Decision Tree classifier\n",
    "So we know know many true-positives(an outcome where the model correctly predicts the positive class), \n",
    "and false positive (an outcome where the model incorrectly predicts the positive class)\n",
    "First we obtain y_pred, then we import confusion_matrix from sklearn.metrics.\"\"\"\n",
    "y_pred = dt_clf.predict(X_test)\n",
    "from sklearn.metrics import confusion_matrix\n",
    "confusion_matrix(y_test, y_pred)"
   ]
  },
  {
   "cell_type": "code",
   "execution_count": 34,
   "metadata": {},
   "outputs": [
    {
     "data": {
      "text/plain": [
       "0.8418165582344687"
      ]
     },
     "execution_count": 34,
     "metadata": {},
     "output_type": "execute_result"
    }
   ],
   "source": [
    "# Random Forests Classifier\n",
    "from sklearn import ensemble\n",
    "rf_clf = ensemble.RandomForestClassifier(n_estimators=100)\n",
    "rf_clf.fit(X_train, y_train)\n",
    "rf_clf.score(X_test, y_test)"
   ]
  },
  {
   "cell_type": "code",
   "execution_count": 35,
   "metadata": {},
   "outputs": [
    {
     "data": {
      "text/plain": [
       "0.6198494705957392"
      ]
     },
     "execution_count": 35,
     "metadata": {},
     "output_type": "execute_result"
    }
   ],
   "source": [
    "# Gradient Boosting Classifier\n",
    "gb_clf = ensemble.GradientBoostingClassifier()\n",
    "gb_clf.fit(X_train, y_train)\n",
    "gb_clf.score(X_test, y_test)"
   ]
  },
  {
   "cell_type": "code",
   "execution_count": 36,
   "metadata": {},
   "outputs": [
    {
     "data": {
      "text/plain": [
       "0.5965046562061488"
      ]
     },
     "execution_count": 36,
     "metadata": {},
     "output_type": "execute_result"
    }
   ],
   "source": [
    "#  Gradient booster : Upgrade\n",
    "gb_clf = ensemble.GradientBoostingClassifier(n_estimators=50)\n",
    "gb_clf.fit(X_train,y_train)\n",
    "gb_clf.score(X_test, y_test)"
   ]
  },
  {
   "cell_type": "code",
   "execution_count": 37,
   "metadata": {},
   "outputs": [
    {
     "data": {
      "text/plain": [
       "0.5133307819874984"
      ]
     },
     "execution_count": 37,
     "metadata": {},
     "output_type": "execute_result"
    }
   ],
   "source": [
    "# Naive Bayes Classifier\n",
    "from sklearn.naive_bayes import GaussianNB\n",
    "nb_clf = GaussianNB()\n",
    "nb_clf.fit(X_train,y_train)\n",
    "nb_clf.score(X_test, y_test)"
   ]
  },
  {
   "cell_type": "code",
   "execution_count": null,
   "metadata": {},
   "outputs": [],
   "source": [
    "# SVM Classifier\n",
    "from sklearn.svm import SVC\n",
    "sv_clf = SVC(probability=True, kernel='linear')\n",
    "sv_clf.fit(X_test, y_test)\n",
    "sv_clf.score(X_test, y_test)"
   ]
  },
  {
   "cell_type": "code",
   "execution_count": 38,
   "metadata": {},
   "outputs": [
    {
     "name": "stderr",
     "output_type": "stream",
     "text": [
      "C:\\Users\\Youssef\\Anaconda3\\lib\\site-packages\\sklearn\\linear_model\\logistic.py:432: FutureWarning: Default solver will be changed to 'lbfgs' in 0.22. Specify a solver to silence this warning.\n",
      "  FutureWarning)\n"
     ]
    },
    {
     "data": {
      "text/plain": [
       "0.4973848705191989"
      ]
     },
     "execution_count": 38,
     "metadata": {},
     "output_type": "execute_result"
    }
   ],
   "source": [
    "# Logistic Regressions Classifier\n",
    "from sklearn.linear_model import LogisticRegression\n",
    "lr_clf = LogisticRegression()\n",
    "lr_clf.fit(X_train,y_train)\n",
    "lr_clf.score(X_test, y_test)"
   ]
  },
  {
   "cell_type": "code",
   "execution_count": null,
   "metadata": {},
   "outputs": [],
   "source": []
  }
 ],
 "metadata": {
  "kernelspec": {
   "display_name": "Python 3",
   "language": "python",
   "name": "python3"
  },
  "language_info": {
   "codemirror_mode": {
    "name": "ipython",
    "version": 3
   },
   "file_extension": ".py",
   "mimetype": "text/x-python",
   "name": "python",
   "nbconvert_exporter": "python",
   "pygments_lexer": "ipython3",
   "version": "3.7.4"
  }
 },
 "nbformat": 4,
 "nbformat_minor": 2
}
